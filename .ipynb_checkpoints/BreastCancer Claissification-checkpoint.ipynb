{
 "cells": [
  {
   "cell_type": "code",
   "execution_count": 1,
   "metadata": {},
   "outputs": [],
   "source": [
    "import numpy as np\n",
    "import matplotlib.pyplot as plt\n",
    "import seaborn as sns\n",
    "import pandas as pd\n",
    "\n",
    "%matplotlib inline"
   ]
  },
  {
   "cell_type": "markdown",
   "metadata": {},
   "source": [
    "# PreProcessing"
   ]
  },
  {
   "cell_type": "code",
   "execution_count": 125,
   "metadata": {},
   "outputs": [],
   "source": [
    "df = pd.read_csv(\"breastCancerUCIMLRepository.csv\")"
   ]
  },
  {
   "cell_type": "code",
   "execution_count": 126,
   "metadata": {},
   "outputs": [],
   "source": [
    "#As pred class vals are given 2 for neg and 4 for poss we change their vals from 0 to 1\n",
    "df['Class'] = df['Class'].replace(2,0)\n",
    "df['Class'] = df['Class'].replace(4,1)"
   ]
  },
  {
   "cell_type": "code",
   "execution_count": 127,
   "metadata": {},
   "outputs": [
    {
     "data": {
      "text/html": [
       "<div>\n",
       "<style scoped>\n",
       "    .dataframe tbody tr th:only-of-type {\n",
       "        vertical-align: middle;\n",
       "    }\n",
       "\n",
       "    .dataframe tbody tr th {\n",
       "        vertical-align: top;\n",
       "    }\n",
       "\n",
       "    .dataframe thead th {\n",
       "        text-align: right;\n",
       "    }\n",
       "</style>\n",
       "<table border=\"1\" class=\"dataframe\">\n",
       "  <thead>\n",
       "    <tr style=\"text-align: right;\">\n",
       "      <th></th>\n",
       "      <th>Sample_code_number</th>\n",
       "      <th>Clump_Thickness</th>\n",
       "      <th>Uniformity_ Cell Size</th>\n",
       "      <th>Uniformity_Cell Shape</th>\n",
       "      <th>Marginal Adhesion</th>\n",
       "      <th>Single_Epithelial_CellSize</th>\n",
       "      <th>Bare Nuclei</th>\n",
       "      <th>Bland_Chromatin</th>\n",
       "      <th>Normal_Nucleoli</th>\n",
       "      <th>Mitoses</th>\n",
       "      <th>Class</th>\n",
       "    </tr>\n",
       "  </thead>\n",
       "  <tbody>\n",
       "    <tr>\n",
       "      <th>0</th>\n",
       "      <td>1000025</td>\n",
       "      <td>5</td>\n",
       "      <td>1</td>\n",
       "      <td>1</td>\n",
       "      <td>1</td>\n",
       "      <td>2</td>\n",
       "      <td>1</td>\n",
       "      <td>3</td>\n",
       "      <td>1</td>\n",
       "      <td>1</td>\n",
       "      <td>0</td>\n",
       "    </tr>\n",
       "    <tr>\n",
       "      <th>1</th>\n",
       "      <td>1002945</td>\n",
       "      <td>5</td>\n",
       "      <td>4</td>\n",
       "      <td>4</td>\n",
       "      <td>5</td>\n",
       "      <td>7</td>\n",
       "      <td>10</td>\n",
       "      <td>3</td>\n",
       "      <td>2</td>\n",
       "      <td>1</td>\n",
       "      <td>0</td>\n",
       "    </tr>\n",
       "    <tr>\n",
       "      <th>2</th>\n",
       "      <td>1015425</td>\n",
       "      <td>3</td>\n",
       "      <td>1</td>\n",
       "      <td>1</td>\n",
       "      <td>1</td>\n",
       "      <td>2</td>\n",
       "      <td>2</td>\n",
       "      <td>3</td>\n",
       "      <td>1</td>\n",
       "      <td>1</td>\n",
       "      <td>0</td>\n",
       "    </tr>\n",
       "    <tr>\n",
       "      <th>3</th>\n",
       "      <td>1016277</td>\n",
       "      <td>6</td>\n",
       "      <td>8</td>\n",
       "      <td>8</td>\n",
       "      <td>1</td>\n",
       "      <td>3</td>\n",
       "      <td>4</td>\n",
       "      <td>3</td>\n",
       "      <td>7</td>\n",
       "      <td>1</td>\n",
       "      <td>0</td>\n",
       "    </tr>\n",
       "    <tr>\n",
       "      <th>4</th>\n",
       "      <td>1017023</td>\n",
       "      <td>4</td>\n",
       "      <td>1</td>\n",
       "      <td>1</td>\n",
       "      <td>3</td>\n",
       "      <td>2</td>\n",
       "      <td>1</td>\n",
       "      <td>3</td>\n",
       "      <td>1</td>\n",
       "      <td>1</td>\n",
       "      <td>0</td>\n",
       "    </tr>\n",
       "    <tr>\n",
       "      <th>...</th>\n",
       "      <td>...</td>\n",
       "      <td>...</td>\n",
       "      <td>...</td>\n",
       "      <td>...</td>\n",
       "      <td>...</td>\n",
       "      <td>...</td>\n",
       "      <td>...</td>\n",
       "      <td>...</td>\n",
       "      <td>...</td>\n",
       "      <td>...</td>\n",
       "      <td>...</td>\n",
       "    </tr>\n",
       "    <tr>\n",
       "      <th>694</th>\n",
       "      <td>776715</td>\n",
       "      <td>3</td>\n",
       "      <td>1</td>\n",
       "      <td>1</td>\n",
       "      <td>1</td>\n",
       "      <td>3</td>\n",
       "      <td>2</td>\n",
       "      <td>1</td>\n",
       "      <td>1</td>\n",
       "      <td>1</td>\n",
       "      <td>0</td>\n",
       "    </tr>\n",
       "    <tr>\n",
       "      <th>695</th>\n",
       "      <td>841769</td>\n",
       "      <td>2</td>\n",
       "      <td>1</td>\n",
       "      <td>1</td>\n",
       "      <td>1</td>\n",
       "      <td>2</td>\n",
       "      <td>1</td>\n",
       "      <td>1</td>\n",
       "      <td>1</td>\n",
       "      <td>1</td>\n",
       "      <td>0</td>\n",
       "    </tr>\n",
       "    <tr>\n",
       "      <th>696</th>\n",
       "      <td>888820</td>\n",
       "      <td>5</td>\n",
       "      <td>10</td>\n",
       "      <td>10</td>\n",
       "      <td>3</td>\n",
       "      <td>7</td>\n",
       "      <td>3</td>\n",
       "      <td>8</td>\n",
       "      <td>10</td>\n",
       "      <td>2</td>\n",
       "      <td>1</td>\n",
       "    </tr>\n",
       "    <tr>\n",
       "      <th>697</th>\n",
       "      <td>897471</td>\n",
       "      <td>4</td>\n",
       "      <td>8</td>\n",
       "      <td>6</td>\n",
       "      <td>4</td>\n",
       "      <td>3</td>\n",
       "      <td>4</td>\n",
       "      <td>10</td>\n",
       "      <td>6</td>\n",
       "      <td>1</td>\n",
       "      <td>1</td>\n",
       "    </tr>\n",
       "    <tr>\n",
       "      <th>698</th>\n",
       "      <td>897471</td>\n",
       "      <td>4</td>\n",
       "      <td>8</td>\n",
       "      <td>8</td>\n",
       "      <td>5</td>\n",
       "      <td>4</td>\n",
       "      <td>5</td>\n",
       "      <td>10</td>\n",
       "      <td>4</td>\n",
       "      <td>1</td>\n",
       "      <td>1</td>\n",
       "    </tr>\n",
       "  </tbody>\n",
       "</table>\n",
       "<p>699 rows × 11 columns</p>\n",
       "</div>"
      ],
      "text/plain": [
       "     Sample_code_number  Clump_Thickness  Uniformity_ Cell Size  \\\n",
       "0               1000025                5                      1   \n",
       "1               1002945                5                      4   \n",
       "2               1015425                3                      1   \n",
       "3               1016277                6                      8   \n",
       "4               1017023                4                      1   \n",
       "..                  ...              ...                    ...   \n",
       "694              776715                3                      1   \n",
       "695              841769                2                      1   \n",
       "696              888820                5                     10   \n",
       "697              897471                4                      8   \n",
       "698              897471                4                      8   \n",
       "\n",
       "     Uniformity_Cell Shape  Marginal Adhesion  Single_Epithelial_CellSize  \\\n",
       "0                        1                  1                           2   \n",
       "1                        4                  5                           7   \n",
       "2                        1                  1                           2   \n",
       "3                        8                  1                           3   \n",
       "4                        1                  3                           2   \n",
       "..                     ...                ...                         ...   \n",
       "694                      1                  1                           3   \n",
       "695                      1                  1                           2   \n",
       "696                     10                  3                           7   \n",
       "697                      6                  4                           3   \n",
       "698                      8                  5                           4   \n",
       "\n",
       "    Bare Nuclei  Bland_Chromatin  Normal_Nucleoli  Mitoses  Class  \n",
       "0             1                3                1        1      0  \n",
       "1            10                3                2        1      0  \n",
       "2             2                3                1        1      0  \n",
       "3             4                3                7        1      0  \n",
       "4             1                3                1        1      0  \n",
       "..          ...              ...              ...      ...    ...  \n",
       "694           2                1                1        1      0  \n",
       "695           1                1                1        1      0  \n",
       "696           3                8               10        2      1  \n",
       "697           4               10                6        1      1  \n",
       "698           5               10                4        1      1  \n",
       "\n",
       "[699 rows x 11 columns]"
      ]
     },
     "execution_count": 127,
     "metadata": {},
     "output_type": "execute_result"
    }
   ],
   "source": [
    "df"
   ]
  },
  {
   "cell_type": "code",
   "execution_count": 128,
   "metadata": {},
   "outputs": [
    {
     "data": {
      "text/plain": [
       "Sample_code_number             0\n",
       "Clump_Thickness                0\n",
       "Uniformity_ Cell Size          0\n",
       "Uniformity_Cell Shape          0\n",
       "Marginal Adhesion              0\n",
       "Single_Epithelial_CellSize     0\n",
       "Bare Nuclei                   16\n",
       "Bland_Chromatin                0\n",
       "Normal_Nucleoli                0\n",
       "Mitoses                        0\n",
       "Class                          0\n",
       "dtype: int64"
      ]
     },
     "execution_count": 128,
     "metadata": {},
     "output_type": "execute_result"
    }
   ],
   "source": [
    "#Finding Null value as ?\n",
    "df[df == \"?\"].count()"
   ]
  },
  {
   "cell_type": "code",
   "execution_count": 150,
   "metadata": {},
   "outputs": [
    {
     "data": {
      "text/html": [
       "<div>\n",
       "<style scoped>\n",
       "    .dataframe tbody tr th:only-of-type {\n",
       "        vertical-align: middle;\n",
       "    }\n",
       "\n",
       "    .dataframe tbody tr th {\n",
       "        vertical-align: top;\n",
       "    }\n",
       "\n",
       "    .dataframe thead th {\n",
       "        text-align: right;\n",
       "    }\n",
       "</style>\n",
       "<table border=\"1\" class=\"dataframe\">\n",
       "  <thead>\n",
       "    <tr style=\"text-align: right;\">\n",
       "      <th></th>\n",
       "      <th>Sample_code_number</th>\n",
       "      <th>Clump_Thickness</th>\n",
       "      <th>Uniformity_ Cell Size</th>\n",
       "      <th>Uniformity_Cell Shape</th>\n",
       "      <th>Marginal Adhesion</th>\n",
       "      <th>Single_Epithelial_CellSize</th>\n",
       "      <th>Bare Nuclei</th>\n",
       "      <th>Bland_Chromatin</th>\n",
       "      <th>Normal_Nucleoli</th>\n",
       "      <th>Mitoses</th>\n",
       "      <th>Class</th>\n",
       "    </tr>\n",
       "  </thead>\n",
       "  <tbody>\n",
       "    <tr>\n",
       "      <th>0</th>\n",
       "      <td>1000025</td>\n",
       "      <td>5</td>\n",
       "      <td>1</td>\n",
       "      <td>1</td>\n",
       "      <td>1</td>\n",
       "      <td>2</td>\n",
       "      <td>1</td>\n",
       "      <td>3</td>\n",
       "      <td>1</td>\n",
       "      <td>1</td>\n",
       "      <td>0</td>\n",
       "    </tr>\n",
       "    <tr>\n",
       "      <th>1</th>\n",
       "      <td>1002945</td>\n",
       "      <td>5</td>\n",
       "      <td>4</td>\n",
       "      <td>4</td>\n",
       "      <td>5</td>\n",
       "      <td>7</td>\n",
       "      <td>10</td>\n",
       "      <td>3</td>\n",
       "      <td>2</td>\n",
       "      <td>1</td>\n",
       "      <td>0</td>\n",
       "    </tr>\n",
       "    <tr>\n",
       "      <th>2</th>\n",
       "      <td>1015425</td>\n",
       "      <td>3</td>\n",
       "      <td>1</td>\n",
       "      <td>1</td>\n",
       "      <td>1</td>\n",
       "      <td>2</td>\n",
       "      <td>2</td>\n",
       "      <td>3</td>\n",
       "      <td>1</td>\n",
       "      <td>1</td>\n",
       "      <td>0</td>\n",
       "    </tr>\n",
       "    <tr>\n",
       "      <th>3</th>\n",
       "      <td>1016277</td>\n",
       "      <td>6</td>\n",
       "      <td>8</td>\n",
       "      <td>8</td>\n",
       "      <td>1</td>\n",
       "      <td>3</td>\n",
       "      <td>4</td>\n",
       "      <td>3</td>\n",
       "      <td>7</td>\n",
       "      <td>1</td>\n",
       "      <td>0</td>\n",
       "    </tr>\n",
       "    <tr>\n",
       "      <th>4</th>\n",
       "      <td>1017023</td>\n",
       "      <td>4</td>\n",
       "      <td>1</td>\n",
       "      <td>1</td>\n",
       "      <td>3</td>\n",
       "      <td>2</td>\n",
       "      <td>1</td>\n",
       "      <td>3</td>\n",
       "      <td>1</td>\n",
       "      <td>1</td>\n",
       "      <td>0</td>\n",
       "    </tr>\n",
       "    <tr>\n",
       "      <th>...</th>\n",
       "      <td>...</td>\n",
       "      <td>...</td>\n",
       "      <td>...</td>\n",
       "      <td>...</td>\n",
       "      <td>...</td>\n",
       "      <td>...</td>\n",
       "      <td>...</td>\n",
       "      <td>...</td>\n",
       "      <td>...</td>\n",
       "      <td>...</td>\n",
       "      <td>...</td>\n",
       "    </tr>\n",
       "    <tr>\n",
       "      <th>694</th>\n",
       "      <td>776715</td>\n",
       "      <td>3</td>\n",
       "      <td>1</td>\n",
       "      <td>1</td>\n",
       "      <td>1</td>\n",
       "      <td>3</td>\n",
       "      <td>2</td>\n",
       "      <td>1</td>\n",
       "      <td>1</td>\n",
       "      <td>1</td>\n",
       "      <td>0</td>\n",
       "    </tr>\n",
       "    <tr>\n",
       "      <th>695</th>\n",
       "      <td>841769</td>\n",
       "      <td>2</td>\n",
       "      <td>1</td>\n",
       "      <td>1</td>\n",
       "      <td>1</td>\n",
       "      <td>2</td>\n",
       "      <td>1</td>\n",
       "      <td>1</td>\n",
       "      <td>1</td>\n",
       "      <td>1</td>\n",
       "      <td>0</td>\n",
       "    </tr>\n",
       "    <tr>\n",
       "      <th>696</th>\n",
       "      <td>888820</td>\n",
       "      <td>5</td>\n",
       "      <td>10</td>\n",
       "      <td>10</td>\n",
       "      <td>3</td>\n",
       "      <td>7</td>\n",
       "      <td>3</td>\n",
       "      <td>8</td>\n",
       "      <td>10</td>\n",
       "      <td>2</td>\n",
       "      <td>1</td>\n",
       "    </tr>\n",
       "    <tr>\n",
       "      <th>697</th>\n",
       "      <td>897471</td>\n",
       "      <td>4</td>\n",
       "      <td>8</td>\n",
       "      <td>6</td>\n",
       "      <td>4</td>\n",
       "      <td>3</td>\n",
       "      <td>4</td>\n",
       "      <td>10</td>\n",
       "      <td>6</td>\n",
       "      <td>1</td>\n",
       "      <td>1</td>\n",
       "    </tr>\n",
       "    <tr>\n",
       "      <th>698</th>\n",
       "      <td>897471</td>\n",
       "      <td>4</td>\n",
       "      <td>8</td>\n",
       "      <td>8</td>\n",
       "      <td>5</td>\n",
       "      <td>4</td>\n",
       "      <td>5</td>\n",
       "      <td>10</td>\n",
       "      <td>4</td>\n",
       "      <td>1</td>\n",
       "      <td>1</td>\n",
       "    </tr>\n",
       "  </tbody>\n",
       "</table>\n",
       "<p>683 rows × 11 columns</p>\n",
       "</div>"
      ],
      "text/plain": [
       "     Sample_code_number  Clump_Thickness  Uniformity_ Cell Size  \\\n",
       "0               1000025                5                      1   \n",
       "1               1002945                5                      4   \n",
       "2               1015425                3                      1   \n",
       "3               1016277                6                      8   \n",
       "4               1017023                4                      1   \n",
       "..                  ...              ...                    ...   \n",
       "694              776715                3                      1   \n",
       "695              841769                2                      1   \n",
       "696              888820                5                     10   \n",
       "697              897471                4                      8   \n",
       "698              897471                4                      8   \n",
       "\n",
       "     Uniformity_Cell Shape  Marginal Adhesion  Single_Epithelial_CellSize  \\\n",
       "0                        1                  1                           2   \n",
       "1                        4                  5                           7   \n",
       "2                        1                  1                           2   \n",
       "3                        8                  1                           3   \n",
       "4                        1                  3                           2   \n",
       "..                     ...                ...                         ...   \n",
       "694                      1                  1                           3   \n",
       "695                      1                  1                           2   \n",
       "696                     10                  3                           7   \n",
       "697                      6                  4                           3   \n",
       "698                      8                  5                           4   \n",
       "\n",
       "    Bare Nuclei  Bland_Chromatin  Normal_Nucleoli  Mitoses  Class  \n",
       "0             1                3                1        1      0  \n",
       "1            10                3                2        1      0  \n",
       "2             2                3                1        1      0  \n",
       "3             4                3                7        1      0  \n",
       "4             1                3                1        1      0  \n",
       "..          ...              ...              ...      ...    ...  \n",
       "694           2                1                1        1      0  \n",
       "695           1                1                1        1      0  \n",
       "696           3                8               10        2      1  \n",
       "697           4               10                6        1      1  \n",
       "698           5               10                4        1      1  \n",
       "\n",
       "[683 rows x 11 columns]"
      ]
     },
     "execution_count": 150,
     "metadata": {},
     "output_type": "execute_result"
    }
   ],
   "source": [
    "#Removing rows where Bare Nuclei is ? therfore removing null values\n",
    "df = df[df['Bare Nuclei'] != \"?\"]\n",
    "df"
   ]
  },
  {
   "cell_type": "code",
   "execution_count": 149,
   "metadata": {},
   "outputs": [
    {
     "data": {
      "text/plain": [
       "Sample_code_number            0\n",
       "Clump_Thickness               0\n",
       "Uniformity_ Cell Size         0\n",
       "Uniformity_Cell Shape         0\n",
       "Marginal Adhesion             0\n",
       "Single_Epithelial_CellSize    0\n",
       "Bare Nuclei                   0\n",
       "Bland_Chromatin               0\n",
       "Normal_Nucleoli               0\n",
       "Mitoses                       0\n",
       "Class                         0\n",
       "dtype: int64"
      ]
     },
     "execution_count": 149,
     "metadata": {},
     "output_type": "execute_result"
    }
   ],
   "source": [
    "#Finding Null value as ?\n",
    "df[df == \"?\"].count()"
   ]
  },
  {
   "cell_type": "markdown",
   "metadata": {},
   "source": [
    "## Feature Engineering"
   ]
  },
  {
   "cell_type": "code",
   "execution_count": 57,
   "metadata": {},
   "outputs": [
    {
     "name": "stdout",
     "output_type": "stream",
     "text": [
      "<class 'pandas.core.frame.DataFrame'>\n",
      "RangeIndex: 699 entries, 0 to 698\n",
      "Data columns (total 11 columns):\n",
      " #   Column                      Non-Null Count  Dtype \n",
      "---  ------                      --------------  ----- \n",
      " 0   Sample_code_number          699 non-null    int64 \n",
      " 1   Clump_Thickness             699 non-null    int64 \n",
      " 2   Uniformity_ Cell Size       699 non-null    int64 \n",
      " 3   Uniformity_Cell Shape       699 non-null    int64 \n",
      " 4   Marginal Adhesion           699 non-null    int64 \n",
      " 5   Single_Epithelial_CellSize  699 non-null    int64 \n",
      " 6   Bare Nuclei                 699 non-null    object\n",
      " 7   Bland_Chromatin             699 non-null    int64 \n",
      " 8   Normal_Nucleoli             699 non-null    int64 \n",
      " 9   Mitoses                     699 non-null    int64 \n",
      " 10  Class                       699 non-null    int64 \n",
      "dtypes: int64(10), object(1)\n",
      "memory usage: 60.2+ KB\n"
     ]
    }
   ],
   "source": [
    "df.info()"
   ]
  },
  {
   "cell_type": "code",
   "execution_count": 60,
   "metadata": {},
   "outputs": [
    {
     "data": {
      "text/html": [
       "<div>\n",
       "<style scoped>\n",
       "    .dataframe tbody tr th:only-of-type {\n",
       "        vertical-align: middle;\n",
       "    }\n",
       "\n",
       "    .dataframe tbody tr th {\n",
       "        vertical-align: top;\n",
       "    }\n",
       "\n",
       "    .dataframe thead th {\n",
       "        text-align: right;\n",
       "    }\n",
       "</style>\n",
       "<table border=\"1\" class=\"dataframe\">\n",
       "  <thead>\n",
       "    <tr style=\"text-align: right;\">\n",
       "      <th></th>\n",
       "      <th>count</th>\n",
       "      <th>mean</th>\n",
       "      <th>std</th>\n",
       "      <th>min</th>\n",
       "      <th>25%</th>\n",
       "      <th>50%</th>\n",
       "      <th>75%</th>\n",
       "      <th>max</th>\n",
       "    </tr>\n",
       "  </thead>\n",
       "  <tbody>\n",
       "    <tr>\n",
       "      <th>Sample_code_number</th>\n",
       "      <td>699.0</td>\n",
       "      <td>1.071704e+06</td>\n",
       "      <td>617095.729819</td>\n",
       "      <td>61634.0</td>\n",
       "      <td>870688.5</td>\n",
       "      <td>1171710.0</td>\n",
       "      <td>1238298.0</td>\n",
       "      <td>13454352.0</td>\n",
       "    </tr>\n",
       "    <tr>\n",
       "      <th>Clump_Thickness</th>\n",
       "      <td>699.0</td>\n",
       "      <td>4.417740e+00</td>\n",
       "      <td>2.815741</td>\n",
       "      <td>1.0</td>\n",
       "      <td>2.0</td>\n",
       "      <td>4.0</td>\n",
       "      <td>6.0</td>\n",
       "      <td>10.0</td>\n",
       "    </tr>\n",
       "    <tr>\n",
       "      <th>Uniformity_ Cell Size</th>\n",
       "      <td>699.0</td>\n",
       "      <td>3.134478e+00</td>\n",
       "      <td>3.051459</td>\n",
       "      <td>1.0</td>\n",
       "      <td>1.0</td>\n",
       "      <td>1.0</td>\n",
       "      <td>5.0</td>\n",
       "      <td>10.0</td>\n",
       "    </tr>\n",
       "    <tr>\n",
       "      <th>Uniformity_Cell Shape</th>\n",
       "      <td>699.0</td>\n",
       "      <td>3.207439e+00</td>\n",
       "      <td>2.971913</td>\n",
       "      <td>1.0</td>\n",
       "      <td>1.0</td>\n",
       "      <td>1.0</td>\n",
       "      <td>5.0</td>\n",
       "      <td>10.0</td>\n",
       "    </tr>\n",
       "    <tr>\n",
       "      <th>Marginal Adhesion</th>\n",
       "      <td>699.0</td>\n",
       "      <td>2.806867e+00</td>\n",
       "      <td>2.855379</td>\n",
       "      <td>1.0</td>\n",
       "      <td>1.0</td>\n",
       "      <td>1.0</td>\n",
       "      <td>4.0</td>\n",
       "      <td>10.0</td>\n",
       "    </tr>\n",
       "    <tr>\n",
       "      <th>Single_Epithelial_CellSize</th>\n",
       "      <td>699.0</td>\n",
       "      <td>3.216023e+00</td>\n",
       "      <td>2.214300</td>\n",
       "      <td>1.0</td>\n",
       "      <td>2.0</td>\n",
       "      <td>2.0</td>\n",
       "      <td>4.0</td>\n",
       "      <td>10.0</td>\n",
       "    </tr>\n",
       "    <tr>\n",
       "      <th>Bland_Chromatin</th>\n",
       "      <td>699.0</td>\n",
       "      <td>3.437768e+00</td>\n",
       "      <td>2.438364</td>\n",
       "      <td>1.0</td>\n",
       "      <td>2.0</td>\n",
       "      <td>3.0</td>\n",
       "      <td>5.0</td>\n",
       "      <td>10.0</td>\n",
       "    </tr>\n",
       "    <tr>\n",
       "      <th>Normal_Nucleoli</th>\n",
       "      <td>699.0</td>\n",
       "      <td>2.866953e+00</td>\n",
       "      <td>3.053634</td>\n",
       "      <td>1.0</td>\n",
       "      <td>1.0</td>\n",
       "      <td>1.0</td>\n",
       "      <td>4.0</td>\n",
       "      <td>10.0</td>\n",
       "    </tr>\n",
       "    <tr>\n",
       "      <th>Mitoses</th>\n",
       "      <td>699.0</td>\n",
       "      <td>1.589413e+00</td>\n",
       "      <td>1.715078</td>\n",
       "      <td>1.0</td>\n",
       "      <td>1.0</td>\n",
       "      <td>1.0</td>\n",
       "      <td>1.0</td>\n",
       "      <td>10.0</td>\n",
       "    </tr>\n",
       "    <tr>\n",
       "      <th>Class</th>\n",
       "      <td>699.0</td>\n",
       "      <td>3.447783e-01</td>\n",
       "      <td>0.475636</td>\n",
       "      <td>0.0</td>\n",
       "      <td>0.0</td>\n",
       "      <td>0.0</td>\n",
       "      <td>1.0</td>\n",
       "      <td>1.0</td>\n",
       "    </tr>\n",
       "  </tbody>\n",
       "</table>\n",
       "</div>"
      ],
      "text/plain": [
       "                            count          mean            std      min  \\\n",
       "Sample_code_number          699.0  1.071704e+06  617095.729819  61634.0   \n",
       "Clump_Thickness             699.0  4.417740e+00       2.815741      1.0   \n",
       "Uniformity_ Cell Size       699.0  3.134478e+00       3.051459      1.0   \n",
       "Uniformity_Cell Shape       699.0  3.207439e+00       2.971913      1.0   \n",
       "Marginal Adhesion           699.0  2.806867e+00       2.855379      1.0   \n",
       "Single_Epithelial_CellSize  699.0  3.216023e+00       2.214300      1.0   \n",
       "Bland_Chromatin             699.0  3.437768e+00       2.438364      1.0   \n",
       "Normal_Nucleoli             699.0  2.866953e+00       3.053634      1.0   \n",
       "Mitoses                     699.0  1.589413e+00       1.715078      1.0   \n",
       "Class                       699.0  3.447783e-01       0.475636      0.0   \n",
       "\n",
       "                                 25%        50%        75%         max  \n",
       "Sample_code_number          870688.5  1171710.0  1238298.0  13454352.0  \n",
       "Clump_Thickness                  2.0        4.0        6.0        10.0  \n",
       "Uniformity_ Cell Size            1.0        1.0        5.0        10.0  \n",
       "Uniformity_Cell Shape            1.0        1.0        5.0        10.0  \n",
       "Marginal Adhesion                1.0        1.0        4.0        10.0  \n",
       "Single_Epithelial_CellSize       2.0        2.0        4.0        10.0  \n",
       "Bland_Chromatin                  2.0        3.0        5.0        10.0  \n",
       "Normal_Nucleoli                  1.0        1.0        4.0        10.0  \n",
       "Mitoses                          1.0        1.0        1.0        10.0  \n",
       "Class                            0.0        0.0        1.0         1.0  "
      ]
     },
     "execution_count": 60,
     "metadata": {},
     "output_type": "execute_result"
    }
   ],
   "source": [
    "df.describe().transpose()"
   ]
  },
  {
   "cell_type": "code",
   "execution_count": 56,
   "metadata": {},
   "outputs": [
    {
     "name": "stderr",
     "output_type": "stream",
     "text": [
      "C:\\ProgramData\\Anaconda3\\lib\\site-packages\\seaborn\\_decorators.py:36: FutureWarning: Pass the following variable as a keyword arg: x. From version 0.12, the only valid positional argument will be `data`, and passing other arguments without an explicit keyword will result in an error or misinterpretation.\n",
      "  warnings.warn(\n"
     ]
    },
    {
     "data": {
      "text/plain": [
       "<AxesSubplot:xlabel='Class', ylabel='count'>"
      ]
     },
     "execution_count": 56,
     "metadata": {},
     "output_type": "execute_result"
    },
    {
     "data": {
      "image/png": "[encoded data removed]",
      "text/plain": [
       "<Figure size 720x432 with 1 Axes>"
      ]
     },
     "metadata": {
      "needs_background": "light"
     },
     "output_type": "display_data"
    }
   ],
   "source": [
    "#Checking classification instances balance\n",
    "plt.figure(figsize=(10,6))\n",
    "sns.countplot(df['Class'])\n",
    "#Both are nearly balanced\n"
   ]
  },
  {
   "cell_type": "code",
   "execution_count": 63,
   "metadata": {},
   "outputs": [
    {
     "data": {
      "text/plain": [
       "<AxesSubplot:>"
      ]
     },
     "execution_count": 63,
     "metadata": {},
     "output_type": "execute_result"
    },
    {
     "data": {
      "image/png": "[encoded data removed]",
      "text/plain": [
       "<Figure size 432x288 with 2 Axes>"
      ]
     },
     "metadata": {
      "needs_background": "light"
     },
     "output_type": "display_data"
    }
   ],
   "source": [
    "sns.heatmap(df.corr())"
   ]
  },
  {
   "cell_type": "markdown",
   "metadata": {},
   "source": [
    "### Correaltions"
   ]
  },
  {
   "cell_type": "code",
   "execution_count": 72,
   "metadata": {},
   "outputs": [
    {
     "data": {
      "text/plain": [
       "Sample_code_number           -0.080226\n",
       "Clump_Thickness               0.716001\n",
       "Uniformity_ Cell Size         0.817904\n",
       "Uniformity_Cell Shape         0.818934\n",
       "Marginal Adhesion             0.696800\n",
       "Single_Epithelial_CellSize    0.682785\n",
       "Bland_Chromatin               0.756616\n",
       "Normal_Nucleoli               0.712244\n",
       "Mitoses                       0.423170\n",
       "Class                         1.000000\n",
       "Name: Class, dtype: float64"
      ]
     },
     "execution_count": 72,
     "metadata": {},
     "output_type": "execute_result"
    }
   ],
   "source": [
    "df.corr()['Class']"
   ]
  },
  {
   "cell_type": "code",
   "execution_count": 74,
   "metadata": {},
   "outputs": [
    {
     "data": {
      "text/plain": [
       "<AxesSubplot:>"
      ]
     },
     "execution_count": 74,
     "metadata": {},
     "output_type": "execute_result"
    },
    {
     "data": {
      "image/png": "[encoded data removed]",
      "text/plain": [
       "<Figure size 432x288 with 1 Axes>"
      ]
     },
     "metadata": {
      "needs_background": "light"
     },
     "output_type": "display_data"
    }
   ],
   "source": [
    "#plotting correlated distrivtions of all features with repspect to **CLASS PRED FEATURE**\n",
    "df.corr()['Class'].sort_values().drop('Class').plot(kind= 'bar')\n",
    "#Highest correlationw with Bland Chromatic and Normal_Nucleoli "
   ]
  },
  {
   "cell_type": "code",
   "execution_count": 80,
   "metadata": {},
   "outputs": [
    {
     "data": {
      "text/plain": [
       "<AxesSubplot:xlabel='Class', ylabel='Bland_Chromatin'>"
      ]
     },
     "execution_count": 80,
     "metadata": {},
     "output_type": "execute_result"
    },
    {
     "data": {
      "image/png": "[encoded data removed]",
      "text/plain": [
       "<Figure size 432x288 with 1 Axes>"
      ]
     },
     "metadata": {
      "needs_background": "light"
     },
     "output_type": "display_data"
    }
   ],
   "source": [
    "#Comparing Class with Bland_Chromatin\n",
    "sns.barplot(data=df, x='Class', y='Bland_Chromatin')"
   ]
  },
  {
   "cell_type": "code",
   "execution_count": 81,
   "metadata": {},
   "outputs": [
    {
     "data": {
      "text/plain": [
       "<AxesSubplot:xlabel='Class', ylabel='Normal_Nucleoli'>"
      ]
     },
     "execution_count": 81,
     "metadata": {},
     "output_type": "execute_result"
    },
    {
     "data": {
      "image/png": "[encoded data removed]",
      "text/plain": [
       "<Figure size 432x288 with 1 Axes>"
      ]
     },
     "metadata": {
      "needs_background": "light"
     },
     "output_type": "display_data"
    }
   ],
   "source": [
    "#Comparing Class with Normal_Nucleoli\n",
    "sns.barplot(data=df, x='Class', y='Normal_Nucleoli')\n",
    "#This has highest Correlation"
   ]
  },
  {
   "cell_type": "markdown",
   "metadata": {},
   "source": [
    "## Data Split"
   ]
  },
  {
   "cell_type": "code",
   "execution_count": 151,
   "metadata": {},
   "outputs": [],
   "source": [
    "#preddata and feature division as numpy array .values\n",
    "\n",
    "X = df.drop('Class',axis=1).values\n",
    "y = df['Class'].values"
   ]
  },
  {
   "cell_type": "code",
   "execution_count": 152,
   "metadata": {},
   "outputs": [],
   "source": [
    "#Splitting\n",
    "\n",
    "from sklearn.model_selection import train_test_split\n",
    "X_train, X_test, y_train, y_test = train_test_split(X, y, test_size=0.33, random_state=101)"
   ]
  },
  {
   "cell_type": "markdown",
   "metadata": {},
   "source": [
    "## Scaling and Normalizing"
   ]
  },
  {
   "cell_type": "code",
   "execution_count": 153,
   "metadata": {},
   "outputs": [],
   "source": [
    "from sklearn.preprocessing import MinMaxScaler\n",
    "scaler = MinMaxScaler()"
   ]
  },
  {
   "cell_type": "code",
   "execution_count": 154,
   "metadata": {},
   "outputs": [
    {
     "data": {
      "text/plain": [
       "MinMaxScaler()"
      ]
     },
     "execution_count": 154,
     "metadata": {},
     "output_type": "execute_result"
    }
   ],
   "source": [
    "#fit on train\n",
    "scaler.fit(X_train)"
   ]
  },
  {
   "cell_type": "code",
   "execution_count": 155,
   "metadata": {},
   "outputs": [],
   "source": [
    "#transforming train x-train\n",
    "X_train = scaler.transform(X_train)"
   ]
  },
  {
   "cell_type": "code",
   "execution_count": 156,
   "metadata": {},
   "outputs": [],
   "source": [
    "#transform x-test\n",
    "X_test = scaler.transform(X_test)"
   ]
  },
  {
   "cell_type": "markdown",
   "metadata": {},
   "source": [
    "## Training"
   ]
  },
  {
   "cell_type": "code",
   "execution_count": 157,
   "metadata": {},
   "outputs": [],
   "source": [
    "import tensorflow\n",
    "from tensorflow import keras\n",
    "\n",
    "from tensorflow.keras.layers import Dense\n",
    "from tensorflow.keras.models import Sequential"
   ]
  },
  {
   "cell_type": "code",
   "execution_count": 158,
   "metadata": {},
   "outputs": [
    {
     "data": {
      "text/plain": [
       "(457, 10)"
      ]
     },
     "execution_count": 158,
     "metadata": {},
     "output_type": "execute_result"
    }
   ],
   "source": [
    "X_train.shape\n",
    "#Using 10 for now as neurons in each layer"
   ]
  },
  {
   "cell_type": "markdown",
   "metadata": {},
   "source": [
    "### EarlyStopping Call Back and Dropouts to manage epochs and avoid OverFit"
   ]
  },
  {
   "cell_type": "markdown",
   "metadata": {},
   "source": [
    "#### EarlyStoppiing"
   ]
  },
  {
   "cell_type": "code",
   "execution_count": 159,
   "metadata": {},
   "outputs": [],
   "source": [
    "\n",
    "from tensorflow.keras.callbacks import EarlyStopping"
   ]
  },
  {
   "cell_type": "code",
   "execution_count": 161,
   "metadata": {},
   "outputs": [],
   "source": [
    "stops = EarlyStopping(monitor='val_loss', patience=25,\n",
    "    mode='min')\n"
   ]
  },
  {
   "cell_type": "markdown",
   "metadata": {},
   "source": [
    "#### Dropouts"
   ]
  },
  {
   "cell_type": "code",
   "execution_count": 162,
   "metadata": {},
   "outputs": [],
   "source": [
    "from tensorflow.keras.layers import Dropout"
   ]
  },
  {
   "cell_type": "markdown",
   "metadata": {},
   "source": [
    "#### Model with overfit management"
   ]
  },
  {
   "cell_type": "code",
   "execution_count": 165,
   "metadata": {},
   "outputs": [
    {
     "data": {
      "text/plain": [
       "(457, 10)"
      ]
     },
     "execution_count": 165,
     "metadata": {},
     "output_type": "execute_result"
    }
   ],
   "source": [
    "X_train.shape"
   ]
  },
  {
   "cell_type": "code",
   "execution_count": 188,
   "metadata": {},
   "outputs": [],
   "source": [
    "#Construct\n",
    "model = Sequential()\n",
    "\n",
    "#adding layers\n",
    "model.add(Dense(10, activation = \"relu\"))\n",
    "model.add(Dropout(0.5))\n",
    "\n",
    "model.add(Dense(5, activation = \"relu\"))\n",
    "model.add(Dropout(0.5))\n",
    "\n",
    "\n",
    "#last output layer\n",
    "model.add(Dense(1, activation = \"sigmoid\"))\n",
    "\n",
    "\n",
    "\n"
   ]
  },
  {
   "cell_type": "code",
   "execution_count": 189,
   "metadata": {},
   "outputs": [],
   "source": [
    "#Compile\n",
    "model.compile(optimizer='adam',\n",
    "    loss=\"binary_crossentropy\")"
   ]
  },
  {
   "cell_type": "code",
   "execution_count": 190,
   "metadata": {},
   "outputs": [
    {
     "name": "stdout",
     "output_type": "stream",
     "text": [
      "Epoch 1/600\n",
      "15/15 [==============================] - 0s 8ms/step - loss: 0.6655 - val_loss: 0.6190\n",
      "Epoch 2/600\n",
      "15/15 [==============================] - 0s 3ms/step - loss: 0.6780 - val_loss: 0.6006\n",
      "Epoch 3/600\n",
      "15/15 [==============================] - 0s 3ms/step - loss: 0.6408 - val_loss: 0.5849\n",
      "Epoch 4/600\n",
      "15/15 [==============================] - 0s 3ms/step - loss: 0.5907 - val_loss: 0.5680\n",
      "Epoch 5/600\n",
      "15/15 [==============================] - 0s 3ms/step - loss: 0.6089 - val_loss: 0.5522\n",
      "Epoch 6/600\n",
      "15/15 [==============================] - 0s 3ms/step - loss: 0.5878 - val_loss: 0.5364\n",
      "Epoch 7/600\n",
      "15/15 [==============================] - 0s 3ms/step - loss: 0.5738 - val_loss: 0.5220\n",
      "Epoch 8/600\n",
      "15/15 [==============================] - 0s 3ms/step - loss: 0.5737 - val_loss: 0.5054\n",
      "Epoch 9/600\n",
      "15/15 [==============================] - 0s 2ms/step - loss: 0.5570 - val_loss: 0.4902\n",
      "Epoch 10/600\n",
      "15/15 [==============================] - 0s 3ms/step - loss: 0.5427 - val_loss: 0.4769\n",
      "Epoch 11/600\n",
      "15/15 [==============================] - 0s 3ms/step - loss: 0.5333 - val_loss: 0.4607\n",
      "Epoch 12/600\n",
      "15/15 [==============================] - 0s 3ms/step - loss: 0.5210 - val_loss: 0.4436\n",
      "Epoch 13/600\n",
      "15/15 [==============================] - 0s 2ms/step - loss: 0.5099 - val_loss: 0.4292\n",
      "Epoch 14/600\n",
      "15/15 [==============================] - 0s 3ms/step - loss: 0.5186 - val_loss: 0.4149\n",
      "Epoch 15/600\n",
      "15/15 [==============================] - 0s 2ms/step - loss: 0.4963 - val_loss: 0.4023\n",
      "Epoch 16/600\n",
      "15/15 [==============================] - 0s 3ms/step - loss: 0.4877 - val_loss: 0.3914\n",
      "Epoch 17/600\n",
      "15/15 [==============================] - 0s 5ms/step - loss: 0.4417 - val_loss: 0.3779\n",
      "Epoch 18/600\n",
      "15/15 [==============================] - 0s 3ms/step - loss: 0.4374 - val_loss: 0.3624\n",
      "Epoch 19/600\n",
      "15/15 [==============================] - 0s 3ms/step - loss: 0.4656 - val_loss: 0.3479\n",
      "Epoch 20/600\n",
      "15/15 [==============================] - 0s 3ms/step - loss: 0.4506 - val_loss: 0.3358\n",
      "Epoch 21/600\n",
      "15/15 [==============================] - 0s 3ms/step - loss: 0.4432 - val_loss: 0.3240\n",
      "Epoch 22/600\n",
      "15/15 [==============================] - 0s 3ms/step - loss: 0.4287 - val_loss: 0.3118\n",
      "Epoch 23/600\n",
      "15/15 [==============================] - 0s 3ms/step - loss: 0.4471 - val_loss: 0.3028\n",
      "Epoch 24/600\n",
      "15/15 [==============================] - 0s 2ms/step - loss: 0.4121 - val_loss: 0.2908\n",
      "Epoch 25/600\n",
      "15/15 [==============================] - 0s 2ms/step - loss: 0.4195 - val_loss: 0.2811\n",
      "Epoch 26/600\n",
      "15/15 [==============================] - 0s 2ms/step - loss: 0.3794 - val_loss: 0.2704\n",
      "Epoch 27/600\n",
      "15/15 [==============================] - 0s 3ms/step - loss: 0.3855 - val_loss: 0.2609\n",
      "Epoch 28/600\n",
      "15/15 [==============================] - 0s 3ms/step - loss: 0.3927 - val_loss: 0.2546\n",
      "Epoch 29/600\n",
      "15/15 [==============================] - 0s 3ms/step - loss: 0.3881 - val_loss: 0.2466\n",
      "Epoch 30/600\n",
      "15/15 [==============================] - 0s 3ms/step - loss: 0.3745 - val_loss: 0.2383\n",
      "Epoch 31/600\n",
      "15/15 [==============================] - 0s 2ms/step - loss: 0.3533 - val_loss: 0.2310\n",
      "Epoch 32/600\n",
      "15/15 [==============================] - 0s 3ms/step - loss: 0.3739 - val_loss: 0.2240\n",
      "Epoch 33/600\n",
      "15/15 [==============================] - 0s 2ms/step - loss: 0.3653 - val_loss: 0.2166\n",
      "Epoch 34/600\n",
      "15/15 [==============================] - 0s 3ms/step - loss: 0.3775 - val_loss: 0.2118\n",
      "Epoch 35/600\n",
      "15/15 [==============================] - 0s 3ms/step - loss: 0.3769 - val_loss: 0.2064\n",
      "Epoch 36/600\n",
      "15/15 [==============================] - 0s 2ms/step - loss: 0.3433 - val_loss: 0.2009\n",
      "Epoch 37/600\n",
      "15/15 [==============================] - 0s 3ms/step - loss: 0.3664 - val_loss: 0.1971\n",
      "Epoch 38/600\n",
      "15/15 [==============================] - 0s 3ms/step - loss: 0.3464 - val_loss: 0.1917\n",
      "Epoch 39/600\n",
      "15/15 [==============================] - 0s 3ms/step - loss: 0.3512 - val_loss: 0.1875\n",
      "Epoch 40/600\n",
      "15/15 [==============================] - 0s 3ms/step - loss: 0.3784 - val_loss: 0.1854\n",
      "Epoch 41/600\n",
      "15/15 [==============================] - 0s 2ms/step - loss: 0.3443 - val_loss: 0.1804\n",
      "Epoch 42/600\n",
      "15/15 [==============================] - 0s 2ms/step - loss: 0.3533 - val_loss: 0.1759\n",
      "Epoch 43/600\n",
      "15/15 [==============================] - 0s 2ms/step - loss: 0.3648 - val_loss: 0.1761\n",
      "Epoch 44/600\n",
      "15/15 [==============================] - 0s 2ms/step - loss: 0.3437 - val_loss: 0.1719\n",
      "Epoch 45/600\n",
      "15/15 [==============================] - 0s 2ms/step - loss: 0.3386 - val_loss: 0.1678\n",
      "Epoch 46/600\n",
      "15/15 [==============================] - 0s 3ms/step - loss: 0.3260 - val_loss: 0.1638\n",
      "Epoch 47/600\n",
      "15/15 [==============================] - 0s 2ms/step - loss: 0.3751 - val_loss: 0.1632\n",
      "Epoch 48/600\n",
      "15/15 [==============================] - 0s 3ms/step - loss: 0.3748 - val_loss: 0.1618\n",
      "Epoch 49/600\n",
      "15/15 [==============================] - 0s 3ms/step - loss: 0.3520 - val_loss: 0.1612\n",
      "Epoch 50/600\n",
      "15/15 [==============================] - 0s 3ms/step - loss: 0.3372 - val_loss: 0.1591\n",
      "Epoch 51/600\n",
      "15/15 [==============================] - 0s 3ms/step - loss: 0.3331 - val_loss: 0.1545\n",
      "Epoch 52/600\n",
      "15/15 [==============================] - 0s 3ms/step - loss: 0.3391 - val_loss: 0.1516\n",
      "Epoch 53/600\n",
      "15/15 [==============================] - 0s 3ms/step - loss: 0.3466 - val_loss: 0.1499\n",
      "Epoch 54/600\n",
      "15/15 [==============================] - 0s 3ms/step - loss: 0.3259 - val_loss: 0.1471\n",
      "Epoch 55/600\n",
      "15/15 [==============================] - 0s 3ms/step - loss: 0.3036 - val_loss: 0.1442\n",
      "Epoch 56/600\n",
      "15/15 [==============================] - 0s 3ms/step - loss: 0.3319 - val_loss: 0.1416\n",
      "Epoch 57/600\n",
      "15/15 [==============================] - 0s 3ms/step - loss: 0.2938 - val_loss: 0.1383\n",
      "Epoch 58/600\n",
      "15/15 [==============================] - 0s 2ms/step - loss: 0.3146 - val_loss: 0.1365\n",
      "Epoch 59/600\n",
      "15/15 [==============================] - 0s 2ms/step - loss: 0.2966 - val_loss: 0.1367\n",
      "Epoch 60/600\n",
      "15/15 [==============================] - 0s 2ms/step - loss: 0.2968 - val_loss: 0.1380\n",
      "Epoch 61/600\n",
      "15/15 [==============================] - 0s 2ms/step - loss: 0.3554 - val_loss: 0.1372\n",
      "Epoch 62/600\n",
      "15/15 [==============================] - 0s 3ms/step - loss: 0.3053 - val_loss: 0.1359\n",
      "Epoch 63/600\n",
      "15/15 [==============================] - 0s 3ms/step - loss: 0.3173 - val_loss: 0.1350\n",
      "Epoch 64/600\n",
      "15/15 [==============================] - 0s 3ms/step - loss: 0.3053 - val_loss: 0.1340\n",
      "Epoch 65/600\n",
      "15/15 [==============================] - 0s 3ms/step - loss: 0.2651 - val_loss: 0.1312\n",
      "Epoch 66/600\n",
      "15/15 [==============================] - 0s 3ms/step - loss: 0.3119 - val_loss: 0.1285\n",
      "Epoch 67/600\n",
      "15/15 [==============================] - 0s 3ms/step - loss: 0.2985 - val_loss: 0.1258\n",
      "Epoch 68/600\n",
      "15/15 [==============================] - 0s 2ms/step - loss: 0.3070 - val_loss: 0.1238\n",
      "Epoch 69/600\n",
      "15/15 [==============================] - 0s 2ms/step - loss: 0.3200 - val_loss: 0.1222\n",
      "Epoch 70/600\n",
      "15/15 [==============================] - 0s 2ms/step - loss: 0.2862 - val_loss: 0.1218\n",
      "Epoch 71/600\n",
      "15/15 [==============================] - 0s 2ms/step - loss: 0.2841 - val_loss: 0.1222\n",
      "Epoch 72/600\n",
      "15/15 [==============================] - 0s 2ms/step - loss: 0.3034 - val_loss: 0.1209\n",
      "Epoch 73/600\n",
      "15/15 [==============================] - 0s 2ms/step - loss: 0.2935 - val_loss: 0.1193\n",
      "Epoch 74/600\n",
      "15/15 [==============================] - 0s 3ms/step - loss: 0.3041 - val_loss: 0.1186\n",
      "Epoch 75/600\n",
      "15/15 [==============================] - 0s 3ms/step - loss: 0.3118 - val_loss: 0.1180\n",
      "Epoch 76/600\n",
      "15/15 [==============================] - 0s 3ms/step - loss: 0.2742 - val_loss: 0.1154\n",
      "Epoch 77/600\n",
      "15/15 [==============================] - 0s 3ms/step - loss: 0.3328 - val_loss: 0.1162\n",
      "Epoch 78/600\n",
      "15/15 [==============================] - 0s 3ms/step - loss: 0.3274 - val_loss: 0.1161\n",
      "Epoch 79/600\n",
      "15/15 [==============================] - 0s 3ms/step - loss: 0.3168 - val_loss: 0.1185\n",
      "Epoch 80/600\n",
      "15/15 [==============================] - 0s 3ms/step - loss: 0.2915 - val_loss: 0.1182\n",
      "Epoch 81/600\n",
      "15/15 [==============================] - 0s 2ms/step - loss: 0.2954 - val_loss: 0.1150\n",
      "Epoch 82/600\n",
      "15/15 [==============================] - 0s 2ms/step - loss: 0.2564 - val_loss: 0.1130\n",
      "Epoch 83/600\n"
     ]
    },
    {
     "name": "stdout",
     "output_type": "stream",
     "text": [
      "15/15 [==============================] - 0s 3ms/step - loss: 0.2618 - val_loss: 0.1100\n",
      "Epoch 84/600\n",
      "15/15 [==============================] - 0s 3ms/step - loss: 0.2781 - val_loss: 0.1074\n",
      "Epoch 85/600\n",
      "15/15 [==============================] - 0s 2ms/step - loss: 0.3057 - val_loss: 0.1062\n",
      "Epoch 86/600\n",
      "15/15 [==============================] - 0s 2ms/step - loss: 0.3059 - val_loss: 0.1071\n",
      "Epoch 87/600\n",
      "15/15 [==============================] - 0s 2ms/step - loss: 0.3201 - val_loss: 0.1058\n",
      "Epoch 88/600\n",
      "15/15 [==============================] - 0s 2ms/step - loss: 0.2762 - val_loss: 0.1058\n",
      "Epoch 89/600\n",
      "15/15 [==============================] - 0s 2ms/step - loss: 0.2890 - val_loss: 0.1050\n",
      "Epoch 90/600\n",
      "15/15 [==============================] - 0s 2ms/step - loss: 0.3074 - val_loss: 0.1035\n",
      "Epoch 91/600\n",
      "15/15 [==============================] - 0s 2ms/step - loss: 0.2983 - val_loss: 0.1011\n",
      "Epoch 92/600\n",
      "15/15 [==============================] - 0s 2ms/step - loss: 0.3116 - val_loss: 0.1002\n",
      "Epoch 93/600\n",
      "15/15 [==============================] - 0s 2ms/step - loss: 0.3088 - val_loss: 0.0998\n",
      "Epoch 94/600\n",
      "15/15 [==============================] - 0s 2ms/step - loss: 0.2822 - val_loss: 0.0985\n",
      "Epoch 95/600\n",
      "15/15 [==============================] - 0s 3ms/step - loss: 0.2626 - val_loss: 0.0978\n",
      "Epoch 96/600\n",
      "15/15 [==============================] - 0s 3ms/step - loss: 0.2675 - val_loss: 0.0951\n",
      "Epoch 97/600\n",
      "15/15 [==============================] - 0s 3ms/step - loss: 0.2515 - val_loss: 0.0928\n",
      "Epoch 98/600\n",
      "15/15 [==============================] - 0s 3ms/step - loss: 0.2906 - val_loss: 0.0925\n",
      "Epoch 99/600\n",
      "15/15 [==============================] - 0s 3ms/step - loss: 0.2680 - val_loss: 0.0940\n",
      "Epoch 100/600\n",
      "15/15 [==============================] - 0s 3ms/step - loss: 0.2602 - val_loss: 0.0928\n",
      "Epoch 101/600\n",
      "15/15 [==============================] - 0s 3ms/step - loss: 0.2452 - val_loss: 0.0903\n",
      "Epoch 102/600\n",
      "15/15 [==============================] - 0s 3ms/step - loss: 0.2644 - val_loss: 0.0871\n",
      "Epoch 103/600\n",
      "15/15 [==============================] - 0s 2ms/step - loss: 0.2598 - val_loss: 0.0852\n",
      "Epoch 104/600\n",
      "15/15 [==============================] - 0s 2ms/step - loss: 0.3018 - val_loss: 0.0846\n",
      "Epoch 105/600\n",
      "15/15 [==============================] - 0s 2ms/step - loss: 0.2794 - val_loss: 0.0877\n",
      "Epoch 106/600\n",
      "15/15 [==============================] - 0s 3ms/step - loss: 0.3031 - val_loss: 0.0895\n",
      "Epoch 107/600\n",
      "15/15 [==============================] - 0s 2ms/step - loss: 0.2789 - val_loss: 0.0894\n",
      "Epoch 108/600\n",
      "15/15 [==============================] - 0s 3ms/step - loss: 0.2671 - val_loss: 0.0906\n",
      "Epoch 109/600\n",
      "15/15 [==============================] - 0s 3ms/step - loss: 0.2515 - val_loss: 0.0894\n",
      "Epoch 110/600\n",
      "15/15 [==============================] - 0s 2ms/step - loss: 0.2663 - val_loss: 0.0891\n",
      "Epoch 111/600\n",
      "15/15 [==============================] - 0s 2ms/step - loss: 0.2603 - val_loss: 0.0890\n",
      "Epoch 112/600\n",
      "15/15 [==============================] - 0s 2ms/step - loss: 0.2373 - val_loss: 0.0874\n",
      "Epoch 113/600\n",
      "15/15 [==============================] - 0s 2ms/step - loss: 0.2803 - val_loss: 0.0867\n",
      "Epoch 114/600\n",
      "15/15 [==============================] - 0s 2ms/step - loss: 0.2548 - val_loss: 0.0885\n",
      "Epoch 115/600\n",
      "15/15 [==============================] - 0s 2ms/step - loss: 0.2506 - val_loss: 0.0873\n",
      "Epoch 116/600\n",
      "15/15 [==============================] - 0s 2ms/step - loss: 0.2825 - val_loss: 0.0870\n",
      "Epoch 117/600\n",
      "15/15 [==============================] - 0s 3ms/step - loss: 0.2565 - val_loss: 0.0853\n",
      "Epoch 118/600\n",
      "15/15 [==============================] - 0s 2ms/step - loss: 0.2722 - val_loss: 0.0844\n",
      "Epoch 119/600\n",
      "15/15 [==============================] - 0s 3ms/step - loss: 0.2386 - val_loss: 0.0844\n",
      "Epoch 120/600\n",
      "15/15 [==============================] - 0s 2ms/step - loss: 0.2424 - val_loss: 0.0828\n",
      "Epoch 121/600\n",
      "15/15 [==============================] - 0s 3ms/step - loss: 0.2466 - val_loss: 0.0815\n",
      "Epoch 122/600\n",
      "15/15 [==============================] - 0s 3ms/step - loss: 0.2182 - val_loss: 0.0794\n",
      "Epoch 123/600\n",
      "15/15 [==============================] - 0s 3ms/step - loss: 0.2399 - val_loss: 0.0777\n",
      "Epoch 124/600\n",
      "15/15 [==============================] - 0s 3ms/step - loss: 0.2693 - val_loss: 0.0777\n",
      "Epoch 125/600\n",
      "15/15 [==============================] - 0s 3ms/step - loss: 0.2476 - val_loss: 0.0780\n",
      "Epoch 126/600\n",
      "15/15 [==============================] - 0s 2ms/step - loss: 0.2897 - val_loss: 0.0779\n",
      "Epoch 127/600\n",
      "15/15 [==============================] - 0s 3ms/step - loss: 0.2666 - val_loss: 0.0800\n",
      "Epoch 128/600\n",
      "15/15 [==============================] - 0s 3ms/step - loss: 0.2571 - val_loss: 0.0807\n",
      "Epoch 129/600\n",
      "15/15 [==============================] - 0s 3ms/step - loss: 0.2453 - val_loss: 0.0798\n",
      "Epoch 130/600\n",
      "15/15 [==============================] - 0s 3ms/step - loss: 0.2341 - val_loss: 0.0788\n",
      "Epoch 131/600\n",
      "15/15 [==============================] - 0s 3ms/step - loss: 0.2686 - val_loss: 0.0799\n",
      "Epoch 132/600\n",
      "15/15 [==============================] - 0s 2ms/step - loss: 0.2564 - val_loss: 0.0805\n",
      "Epoch 133/600\n",
      "15/15 [==============================] - 0s 3ms/step - loss: 0.2291 - val_loss: 0.0795\n",
      "Epoch 134/600\n",
      "15/15 [==============================] - 0s 2ms/step - loss: 0.2665 - val_loss: 0.0797\n",
      "Epoch 135/600\n",
      "15/15 [==============================] - 0s 2ms/step - loss: 0.2592 - val_loss: 0.0788\n",
      "Epoch 136/600\n",
      "15/15 [==============================] - 0s 3ms/step - loss: 0.2361 - val_loss: 0.0778\n",
      "Epoch 137/600\n",
      "15/15 [==============================] - 0s 3ms/step - loss: 0.2582 - val_loss: 0.0771\n",
      "Epoch 138/600\n",
      "15/15 [==============================] - 0s 2ms/step - loss: 0.2511 - val_loss: 0.0762\n",
      "Epoch 139/600\n",
      "15/15 [==============================] - 0s 3ms/step - loss: 0.2225 - val_loss: 0.0746\n",
      "Epoch 140/600\n",
      "15/15 [==============================] - 0s 3ms/step - loss: 0.2335 - val_loss: 0.0734\n",
      "Epoch 141/600\n",
      "15/15 [==============================] - 0s 2ms/step - loss: 0.2215 - val_loss: 0.0726\n",
      "Epoch 142/600\n",
      "15/15 [==============================] - 0s 2ms/step - loss: 0.2159 - val_loss: 0.0721\n",
      "Epoch 143/600\n",
      "15/15 [==============================] - 0s 3ms/step - loss: 0.2429 - val_loss: 0.0724\n",
      "Epoch 144/600\n",
      "15/15 [==============================] - 0s 2ms/step - loss: 0.2307 - val_loss: 0.0725\n",
      "Epoch 145/600\n",
      "15/15 [==============================] - 0s 2ms/step - loss: 0.2289 - val_loss: 0.0713\n",
      "Epoch 146/600\n",
      "15/15 [==============================] - 0s 2ms/step - loss: 0.2569 - val_loss: 0.0714\n",
      "Epoch 147/600\n",
      "15/15 [==============================] - 0s 2ms/step - loss: 0.2607 - val_loss: 0.0717\n",
      "Epoch 148/600\n",
      "15/15 [==============================] - 0s 2ms/step - loss: 0.2519 - val_loss: 0.0724\n",
      "Epoch 149/600\n",
      "15/15 [==============================] - 0s 3ms/step - loss: 0.2715 - val_loss: 0.0744\n",
      "Epoch 150/600\n",
      "15/15 [==============================] - 0s 3ms/step - loss: 0.2304 - val_loss: 0.0749\n",
      "Epoch 151/600\n",
      "15/15 [==============================] - 0s 3ms/step - loss: 0.2046 - val_loss: 0.0746\n",
      "Epoch 152/600\n",
      "15/15 [==============================] - 0s 2ms/step - loss: 0.2414 - val_loss: 0.0745\n",
      "Epoch 153/600\n",
      "15/15 [==============================] - 0s 2ms/step - loss: 0.2373 - val_loss: 0.0749\n",
      "Epoch 154/600\n",
      "15/15 [==============================] - 0s 2ms/step - loss: 0.2102 - val_loss: 0.0754\n",
      "Epoch 155/600\n",
      "15/15 [==============================] - 0s 2ms/step - loss: 0.2451 - val_loss: 0.0757\n",
      "Epoch 156/600\n",
      "15/15 [==============================] - 0s 2ms/step - loss: 0.2316 - val_loss: 0.0758\n",
      "Epoch 157/600\n",
      "15/15 [==============================] - 0s 2ms/step - loss: 0.2219 - val_loss: 0.0752\n",
      "Epoch 158/600\n",
      "15/15 [==============================] - 0s 2ms/step - loss: 0.2597 - val_loss: 0.0745\n",
      "Epoch 159/600\n",
      "15/15 [==============================] - 0s 2ms/step - loss: 0.2529 - val_loss: 0.0778\n",
      "Epoch 160/600\n",
      "15/15 [==============================] - 0s 2ms/step - loss: 0.2731 - val_loss: 0.0791\n",
      "Epoch 161/600\n",
      "15/15 [==============================] - 0s 2ms/step - loss: 0.2577 - val_loss: 0.0810\n",
      "Epoch 162/600\n",
      "15/15 [==============================] - 0s 2ms/step - loss: 0.2587 - val_loss: 0.0833\n",
      "Epoch 163/600\n",
      "15/15 [==============================] - 0s 2ms/step - loss: 0.2626 - val_loss: 0.0844\n",
      "Epoch 164/600\n"
     ]
    },
    {
     "name": "stdout",
     "output_type": "stream",
     "text": [
      "15/15 [==============================] - 0s 4ms/step - loss: 0.2642 - val_loss: 0.0851\n",
      "Epoch 165/600\n",
      "15/15 [==============================] - 0s 5ms/step - loss: 0.2249 - val_loss: 0.0825\n",
      "Epoch 166/600\n",
      "15/15 [==============================] - 0s 4ms/step - loss: 0.2345 - val_loss: 0.0801\n",
      "Epoch 167/600\n",
      "15/15 [==============================] - 0s 4ms/step - loss: 0.2217 - val_loss: 0.0761\n",
      "Epoch 168/600\n",
      "15/15 [==============================] - 0s 3ms/step - loss: 0.2591 - val_loss: 0.0764\n",
      "Epoch 169/600\n",
      "15/15 [==============================] - 0s 3ms/step - loss: 0.2489 - val_loss: 0.0814\n",
      "Epoch 170/600\n",
      "15/15 [==============================] - 0s 4ms/step - loss: 0.2682 - val_loss: 0.0818\n"
     ]
    },
    {
     "data": {
      "text/plain": [
       "<tensorflow.python.keras.callbacks.History at 0x1e5f124e100>"
      ]
     },
     "execution_count": 190,
     "metadata": {},
     "output_type": "execute_result"
    }
   ],
   "source": [
    "#Fitting\n",
    "model.fit(x= X_train , y=y_train , validation_data=(X_test,y_test),\n",
    "         epochs=600 , callbacks=[stops] )"
   ]
  },
  {
   "cell_type": "code",
   "execution_count": 187,
   "metadata": {},
   "outputs": [
    {
     "data": {
      "text/plain": [
       "<AxesSubplot:>"
      ]
     },
     "execution_count": 187,
     "metadata": {},
     "output_type": "execute_result"
    },
    {
     "data": {
      "image/png": "[encoded data removed]",
      "text/plain": [
       "<Figure size 432x288 with 1 Axes>"
      ]
     },
     "metadata": {
      "needs_background": "light"
     },
     "output_type": "display_data"
    }
   ],
   "source": [
    "lossdf = pd.DataFrame(model.history.history)\n",
    "lossdf.plot()"
   ]
  },
  {
   "cell_type": "code",
   "execution_count": 196,
   "metadata": {},
   "outputs": [
    {
     "name": "stdout",
     "output_type": "stream",
     "text": [
      "Epoch 1/600\n",
      "15/15 [==============================] - 0s 8ms/step - loss: 0.6783 - val_loss: 0.6701\n",
      "Epoch 2/600\n",
      "15/15 [==============================] - 0s 2ms/step - loss: 0.6725 - val_loss: 0.6568\n",
      "Epoch 3/600\n",
      "15/15 [==============================] - 0s 3ms/step - loss: 0.6437 - val_loss: 0.6412\n",
      "Epoch 4/600\n",
      "15/15 [==============================] - 0s 3ms/step - loss: 0.6410 - val_loss: 0.6230\n",
      "Epoch 5/600\n",
      "15/15 [==============================] - 0s 3ms/step - loss: 0.6116 - val_loss: 0.6018\n",
      "Epoch 6/600\n",
      "15/15 [==============================] - 0s 3ms/step - loss: 0.6109 - val_loss: 0.5797\n",
      "Epoch 7/600\n",
      "15/15 [==============================] - 0s 3ms/step - loss: 0.5809 - val_loss: 0.5574\n",
      "Epoch 8/600\n",
      "15/15 [==============================] - 0s 3ms/step - loss: 0.5806 - val_loss: 0.5359\n",
      "Epoch 9/600\n",
      "15/15 [==============================] - 0s 3ms/step - loss: 0.5516 - val_loss: 0.5131\n",
      "Epoch 10/600\n",
      "15/15 [==============================] - 0s 2ms/step - loss: 0.5320 - val_loss: 0.4858\n",
      "Epoch 11/600\n",
      "15/15 [==============================] - 0s 3ms/step - loss: 0.5056 - val_loss: 0.4588\n",
      "Epoch 12/600\n",
      "15/15 [==============================] - 0s 3ms/step - loss: 0.4749 - val_loss: 0.4303\n",
      "Epoch 13/600\n",
      "15/15 [==============================] - 0s 3ms/step - loss: 0.4748 - val_loss: 0.4044\n",
      "Epoch 14/600\n",
      "15/15 [==============================] - 0s 3ms/step - loss: 0.4660 - val_loss: 0.3800\n",
      "Epoch 15/600\n",
      "15/15 [==============================] - 0s 3ms/step - loss: 0.4039 - val_loss: 0.3531\n",
      "Epoch 16/600\n",
      "15/15 [==============================] - 0s 3ms/step - loss: 0.4041 - val_loss: 0.3279\n",
      "Epoch 17/600\n",
      "15/15 [==============================] - 0s 7ms/step - loss: 0.3672 - val_loss: 0.3029\n",
      "Epoch 18/600\n",
      "15/15 [==============================] - 0s 3ms/step - loss: 0.3653 - val_loss: 0.2793\n",
      "Epoch 19/600\n",
      "15/15 [==============================] - 0s 3ms/step - loss: 0.3553 - val_loss: 0.2585\n",
      "Epoch 20/600\n",
      "15/15 [==============================] - 0s 3ms/step - loss: 0.3264 - val_loss: 0.2371\n",
      "Epoch 21/600\n",
      "15/15 [==============================] - 0s 2ms/step - loss: 0.3153 - val_loss: 0.2183\n",
      "Epoch 22/600\n",
      "15/15 [==============================] - 0s 2ms/step - loss: 0.3567 - val_loss: 0.2042\n",
      "Epoch 23/600\n",
      "15/15 [==============================] - 0s 2ms/step - loss: 0.3053 - val_loss: 0.1905\n",
      "Epoch 24/600\n",
      "15/15 [==============================] - 0s 2ms/step - loss: 0.3007 - val_loss: 0.1798\n",
      "Epoch 25/600\n",
      "15/15 [==============================] - 0s 3ms/step - loss: 0.2664 - val_loss: 0.1692\n",
      "Epoch 26/600\n",
      "15/15 [==============================] - 0s 3ms/step - loss: 0.3053 - val_loss: 0.1609\n",
      "Epoch 27/600\n",
      "15/15 [==============================] - 0s 3ms/step - loss: 0.2811 - val_loss: 0.1530\n",
      "Epoch 28/600\n",
      "15/15 [==============================] - 0s 3ms/step - loss: 0.2509 - val_loss: 0.1440\n",
      "Epoch 29/600\n",
      "15/15 [==============================] - 0s 3ms/step - loss: 0.2891 - val_loss: 0.1368\n",
      "Epoch 30/600\n",
      "15/15 [==============================] - 0s 2ms/step - loss: 0.2513 - val_loss: 0.1290\n",
      "Epoch 31/600\n",
      "15/15 [==============================] - 0s 2ms/step - loss: 0.2402 - val_loss: 0.1228\n",
      "Epoch 32/600\n",
      "15/15 [==============================] - 0s 2ms/step - loss: 0.2521 - val_loss: 0.1166\n",
      "Epoch 33/600\n",
      "15/15 [==============================] - 0s 3ms/step - loss: 0.2344 - val_loss: 0.1113\n",
      "Epoch 34/600\n",
      "15/15 [==============================] - 0s 3ms/step - loss: 0.2468 - val_loss: 0.1070\n",
      "Epoch 35/600\n",
      "15/15 [==============================] - 0s 2ms/step - loss: 0.2146 - val_loss: 0.1029\n",
      "Epoch 36/600\n",
      "15/15 [==============================] - 0s 2ms/step - loss: 0.2152 - val_loss: 0.1017\n",
      "Epoch 37/600\n",
      "15/15 [==============================] - 0s 3ms/step - loss: 0.2207 - val_loss: 0.0991\n",
      "Epoch 38/600\n",
      "15/15 [==============================] - 0s 2ms/step - loss: 0.1929 - val_loss: 0.0950\n",
      "Epoch 39/600\n",
      "15/15 [==============================] - 0s 3ms/step - loss: 0.2250 - val_loss: 0.0913\n",
      "Epoch 40/600\n",
      "15/15 [==============================] - 0s 3ms/step - loss: 0.2226 - val_loss: 0.0896\n",
      "Epoch 41/600\n",
      "15/15 [==============================] - 0s 3ms/step - loss: 0.1955 - val_loss: 0.0881\n",
      "Epoch 42/600\n",
      "15/15 [==============================] - 0s 3ms/step - loss: 0.2082 - val_loss: 0.0874\n",
      "Epoch 43/600\n",
      "15/15 [==============================] - 0s 2ms/step - loss: 0.1957 - val_loss: 0.0892\n",
      "Epoch 44/600\n",
      "15/15 [==============================] - 0s 2ms/step - loss: 0.2179 - val_loss: 0.0866\n",
      "Epoch 45/600\n",
      "15/15 [==============================] - 0s 2ms/step - loss: 0.1890 - val_loss: 0.0835\n",
      "Epoch 46/600\n",
      "15/15 [==============================] - 0s 2ms/step - loss: 0.2086 - val_loss: 0.0797\n",
      "Epoch 47/600\n",
      "15/15 [==============================] - 0s 2ms/step - loss: 0.1974 - val_loss: 0.0780\n",
      "Epoch 48/600\n",
      "15/15 [==============================] - 0s 2ms/step - loss: 0.2160 - val_loss: 0.0779\n",
      "Epoch 49/600\n",
      "15/15 [==============================] - 0s 2ms/step - loss: 0.2173 - val_loss: 0.0777\n",
      "Epoch 50/600\n",
      "15/15 [==============================] - 0s 3ms/step - loss: 0.1975 - val_loss: 0.0768\n",
      "Epoch 51/600\n",
      "15/15 [==============================] - 0s 2ms/step - loss: 0.1856 - val_loss: 0.0753\n",
      "Epoch 52/600\n",
      "15/15 [==============================] - 0s 3ms/step - loss: 0.1883 - val_loss: 0.0739\n",
      "Epoch 53/600\n",
      "15/15 [==============================] - 0s 3ms/step - loss: 0.1877 - val_loss: 0.0730\n",
      "Epoch 54/600\n",
      "15/15 [==============================] - 0s 2ms/step - loss: 0.1757 - val_loss: 0.0715\n",
      "Epoch 55/600\n",
      "15/15 [==============================] - 0s 2ms/step - loss: 0.2182 - val_loss: 0.0712\n",
      "Epoch 56/600\n",
      "15/15 [==============================] - 0s 2ms/step - loss: 0.1903 - val_loss: 0.0707\n",
      "Epoch 57/600\n",
      "15/15 [==============================] - 0s 2ms/step - loss: 0.2211 - val_loss: 0.0702\n",
      "Epoch 58/600\n",
      "15/15 [==============================] - 0s 2ms/step - loss: 0.2181 - val_loss: 0.0699\n",
      "Epoch 59/600\n",
      "15/15 [==============================] - 0s 2ms/step - loss: 0.1975 - val_loss: 0.0717\n",
      "Epoch 60/600\n",
      "15/15 [==============================] - 0s 2ms/step - loss: 0.2007 - val_loss: 0.0719\n",
      "Epoch 61/600\n",
      "15/15 [==============================] - 0s 2ms/step - loss: 0.1810 - val_loss: 0.0716\n",
      "Epoch 62/600\n",
      "15/15 [==============================] - 0s 2ms/step - loss: 0.1849 - val_loss: 0.0708\n",
      "Epoch 63/600\n",
      "15/15 [==============================] - 0s 3ms/step - loss: 0.1954 - val_loss: 0.0711\n",
      "Epoch 64/600\n",
      "15/15 [==============================] - 0s 3ms/step - loss: 0.1920 - val_loss: 0.0714\n",
      "Epoch 65/600\n",
      "15/15 [==============================] - 0s 3ms/step - loss: 0.2052 - val_loss: 0.0729\n",
      "Epoch 66/600\n",
      "15/15 [==============================] - 0s 2ms/step - loss: 0.1751 - val_loss: 0.0714\n",
      "Epoch 67/600\n",
      "15/15 [==============================] - 0s 3ms/step - loss: 0.1688 - val_loss: 0.0694\n",
      "Epoch 68/600\n",
      "15/15 [==============================] - 0s 3ms/step - loss: 0.1749 - val_loss: 0.0678\n",
      "Epoch 69/600\n",
      "15/15 [==============================] - 0s 3ms/step - loss: 0.1631 - val_loss: 0.0674\n",
      "Epoch 70/600\n",
      "15/15 [==============================] - 0s 2ms/step - loss: 0.1298 - val_loss: 0.0654\n",
      "Epoch 71/600\n",
      "15/15 [==============================] - 0s 2ms/step - loss: 0.1685 - val_loss: 0.0645\n",
      "Epoch 72/600\n",
      "15/15 [==============================] - 0s 2ms/step - loss: 0.1731 - val_loss: 0.0656\n",
      "Epoch 73/600\n",
      "15/15 [==============================] - 0s 2ms/step - loss: 0.1781 - val_loss: 0.0657\n",
      "Epoch 74/600\n",
      "15/15 [==============================] - 0s 3ms/step - loss: 0.1731 - val_loss: 0.0660\n",
      "Epoch 75/600\n",
      "15/15 [==============================] - 0s 3ms/step - loss: 0.1840 - val_loss: 0.0667\n",
      "Epoch 76/600\n",
      "15/15 [==============================] - 0s 3ms/step - loss: 0.1768 - val_loss: 0.0668\n",
      "Epoch 77/600\n",
      "15/15 [==============================] - 0s 2ms/step - loss: 0.1657 - val_loss: 0.0657\n",
      "Epoch 78/600\n",
      "15/15 [==============================] - 0s 2ms/step - loss: 0.1932 - val_loss: 0.0661\n",
      "Epoch 79/600\n",
      "15/15 [==============================] - 0s 2ms/step - loss: 0.1841 - val_loss: 0.0657\n",
      "Epoch 80/600\n",
      "15/15 [==============================] - 0s 2ms/step - loss: 0.2104 - val_loss: 0.0675\n",
      "Epoch 81/600\n",
      "15/15 [==============================] - 0s 2ms/step - loss: 0.1627 - val_loss: 0.0674\n",
      "Epoch 82/600\n",
      "15/15 [==============================] - 0s 2ms/step - loss: 0.1459 - val_loss: 0.0661\n",
      "Epoch 83/600\n"
     ]
    },
    {
     "name": "stdout",
     "output_type": "stream",
     "text": [
      "15/15 [==============================] - 0s 2ms/step - loss: 0.1495 - val_loss: 0.0650\n",
      "Epoch 84/600\n",
      "15/15 [==============================] - 0s 2ms/step - loss: 0.1659 - val_loss: 0.0634\n",
      "Epoch 85/600\n",
      "15/15 [==============================] - 0s 2ms/step - loss: 0.1728 - val_loss: 0.0633\n",
      "Epoch 86/600\n",
      "15/15 [==============================] - 0s 2ms/step - loss: 0.1697 - val_loss: 0.0637\n",
      "Epoch 87/600\n",
      "15/15 [==============================] - 0s 2ms/step - loss: 0.1396 - val_loss: 0.0633\n",
      "Epoch 88/600\n",
      "15/15 [==============================] - 0s 2ms/step - loss: 0.1702 - val_loss: 0.0633\n",
      "Epoch 89/600\n",
      "15/15 [==============================] - 0s 2ms/step - loss: 0.1681 - val_loss: 0.0629\n",
      "Epoch 90/600\n",
      "15/15 [==============================] - 0s 2ms/step - loss: 0.1695 - val_loss: 0.0622\n",
      "Epoch 91/600\n",
      "15/15 [==============================] - 0s 2ms/step - loss: 0.1701 - val_loss: 0.0616\n",
      "Epoch 92/600\n",
      "15/15 [==============================] - 0s 2ms/step - loss: 0.1744 - val_loss: 0.0616\n",
      "Epoch 93/600\n",
      "15/15 [==============================] - 0s 2ms/step - loss: 0.1777 - val_loss: 0.0622\n",
      "Epoch 94/600\n",
      "15/15 [==============================] - 0s 3ms/step - loss: 0.1597 - val_loss: 0.0632\n",
      "Epoch 95/600\n",
      "15/15 [==============================] - 0s 2ms/step - loss: 0.1764 - val_loss: 0.0632\n",
      "Epoch 96/600\n",
      "15/15 [==============================] - 0s 2ms/step - loss: 0.1802 - val_loss: 0.0639\n",
      "Epoch 97/600\n",
      "15/15 [==============================] - 0s 2ms/step - loss: 0.1609 - val_loss: 0.0645\n",
      "Epoch 98/600\n",
      "15/15 [==============================] - 0s 2ms/step - loss: 0.1683 - val_loss: 0.0641\n",
      "Epoch 99/600\n",
      "15/15 [==============================] - 0s 2ms/step - loss: 0.1609 - val_loss: 0.0639\n",
      "Epoch 100/600\n",
      "15/15 [==============================] - 0s 2ms/step - loss: 0.1674 - val_loss: 0.0633\n",
      "Epoch 101/600\n",
      "15/15 [==============================] - 0s 2ms/step - loss: 0.1859 - val_loss: 0.0637\n",
      "Epoch 102/600\n",
      "15/15 [==============================] - 0s 2ms/step - loss: 0.1323 - val_loss: 0.0626\n",
      "Epoch 103/600\n",
      "15/15 [==============================] - 0s 2ms/step - loss: 0.1819 - val_loss: 0.0626\n",
      "Epoch 104/600\n",
      "15/15 [==============================] - 0s 2ms/step - loss: 0.1657 - val_loss: 0.0632\n",
      "Epoch 105/600\n",
      "15/15 [==============================] - 0s 2ms/step - loss: 0.1898 - val_loss: 0.0628\n",
      "Epoch 106/600\n",
      "15/15 [==============================] - 0s 2ms/step - loss: 0.2152 - val_loss: 0.0641\n",
      "Epoch 107/600\n",
      "15/15 [==============================] - 0s 2ms/step - loss: 0.1572 - val_loss: 0.0664\n",
      "Epoch 108/600\n",
      "15/15 [==============================] - 0s 2ms/step - loss: 0.1621 - val_loss: 0.0651\n",
      "Epoch 109/600\n",
      "15/15 [==============================] - 0s 2ms/step - loss: 0.1709 - val_loss: 0.0637\n",
      "Epoch 110/600\n",
      "15/15 [==============================] - 0s 2ms/step - loss: 0.1578 - val_loss: 0.0631\n",
      "Epoch 111/600\n",
      "15/15 [==============================] - 0s 2ms/step - loss: 0.1497 - val_loss: 0.0626\n",
      "Epoch 112/600\n",
      "15/15 [==============================] - 0s 2ms/step - loss: 0.1432 - val_loss: 0.0620\n",
      "Epoch 113/600\n",
      "15/15 [==============================] - 0s 3ms/step - loss: 0.1722 - val_loss: 0.0620\n",
      "Epoch 114/600\n",
      "15/15 [==============================] - 0s 2ms/step - loss: 0.1756 - val_loss: 0.0627\n",
      "Epoch 115/600\n",
      "15/15 [==============================] - 0s 2ms/step - loss: 0.1694 - val_loss: 0.0634\n",
      "Epoch 116/600\n",
      "15/15 [==============================] - 0s 2ms/step - loss: 0.1925 - val_loss: 0.0640\n"
     ]
    },
    {
     "data": {
      "text/plain": [
       "<tensorflow.python.keras.callbacks.History at 0x1e5feb14460>"
      ]
     },
     "execution_count": 196,
     "metadata": {},
     "output_type": "execute_result"
    }
   ],
   "source": [
    "#Training with Second Layer of 10 neurons\n",
    "\n",
    "#Construct\n",
    "model = Sequential()\n",
    "\n",
    "#adding layers\n",
    "model.add(Dense(10, activation = \"relu\"))\n",
    "model.add(Dropout(0.5))\n",
    "\n",
    "model.add(Dense(10, activation = \"relu\"))\n",
    "model.add(Dropout(0.5))\n",
    "\n",
    "\n",
    "#last output layer\n",
    "model.add(Dense(1, activation = \"sigmoid\"))\n",
    "\n",
    "#Compile\n",
    "model.compile(optimizer='adam',\n",
    "    loss=\"binary_crossentropy\")\n",
    "\n",
    "\n",
    "\n",
    "#Fitting\n",
    "model.fit(x= X_train , y=y_train , validation_data=(X_test,y_test),\n",
    "         epochs=600 , callbacks=[stops] )\n"
   ]
  },
  {
   "cell_type": "code",
   "execution_count": 197,
   "metadata": {},
   "outputs": [
    {
     "data": {
      "text/plain": [
       "<AxesSubplot:>"
      ]
     },
     "execution_count": 197,
     "metadata": {},
     "output_type": "execute_result"
    },
    {
     "data": {
      "image/png": "[encoded data removed]",
      "text/plain": [
       "<Figure size 432x288 with 1 Axes>"
      ]
     },
     "metadata": {
      "needs_background": "light"
     },
     "output_type": "display_data"
    }
   ],
   "source": [
    "lossdf = pd.DataFrame(model.history.history)\n",
    "lossdf.plot()"
   ]
  },
  {
   "cell_type": "markdown",
   "metadata": {},
   "source": [
    "# Testing"
   ]
  },
  {
   "cell_type": "code",
   "execution_count": 209,
   "metadata": {},
   "outputs": [],
   "source": [
    "pred = model.predict_classes(X_test)"
   ]
  },
  {
   "cell_type": "code",
   "execution_count": 211,
   "metadata": {},
   "outputs": [
    {
     "name": "stdout",
     "output_type": "stream",
     "text": [
      "              precision    recall  f1-score   support\n",
      "\n",
      "           0       0.99      0.99      0.99       144\n",
      "           1       0.98      0.99      0.98        82\n",
      "\n",
      "    accuracy                           0.99       226\n",
      "   macro avg       0.98      0.99      0.99       226\n",
      "weighted avg       0.99      0.99      0.99       226\n",
      "\n"
     ]
    }
   ],
   "source": [
    "from sklearn.metrics import classification_report\n",
    "print(classification_report(y_test, pred)    )"
   ]
  },
  {
   "cell_type": "code",
   "execution_count": 214,
   "metadata": {},
   "outputs": [
    {
     "name": "stdout",
     "output_type": "stream",
     "text": [
      "[[142   2]\n",
      " [  1  81]]\n"
     ]
    }
   ],
   "source": [
    "from sklearn.metrics import confusion_matrix\n",
    "print(confusion_matrix(y_test, pred))"
   ]
  },
  {
   "cell_type": "markdown",
   "metadata": {},
   "source": [
    "## Custom Data\n"
   ]
  },
  {
   "cell_type": "code",
   "execution_count": 284,
   "metadata": {},
   "outputs": [
    {
     "data": {
      "text/html": [
       "<div>\n",
       "<style scoped>\n",
       "    .dataframe tbody tr th:only-of-type {\n",
       "        vertical-align: middle;\n",
       "    }\n",
       "\n",
       "    .dataframe tbody tr th {\n",
       "        vertical-align: top;\n",
       "    }\n",
       "\n",
       "    .dataframe thead th {\n",
       "        text-align: right;\n",
       "    }\n",
       "</style>\n",
       "<table border=\"1\" class=\"dataframe\">\n",
       "  <thead>\n",
       "    <tr style=\"text-align: right;\">\n",
       "      <th></th>\n",
       "      <th>Sample_code_number</th>\n",
       "      <th>Clump_Thickness</th>\n",
       "      <th>Uniformity_ Cell Size</th>\n",
       "      <th>Uniformity_Cell Shape</th>\n",
       "      <th>Marginal Adhesion</th>\n",
       "      <th>Single_Epithelial_CellSize</th>\n",
       "      <th>Bare Nuclei</th>\n",
       "      <th>Bland_Chromatin</th>\n",
       "      <th>Normal_Nucleoli</th>\n",
       "      <th>Mitoses</th>\n",
       "      <th>Class</th>\n",
       "    </tr>\n",
       "  </thead>\n",
       "  <tbody>\n",
       "    <tr>\n",
       "      <th>0</th>\n",
       "      <td>1000025</td>\n",
       "      <td>5</td>\n",
       "      <td>1</td>\n",
       "      <td>1</td>\n",
       "      <td>1</td>\n",
       "      <td>2</td>\n",
       "      <td>1</td>\n",
       "      <td>3</td>\n",
       "      <td>1</td>\n",
       "      <td>1</td>\n",
       "      <td>0</td>\n",
       "    </tr>\n",
       "  </tbody>\n",
       "</table>\n",
       "</div>"
      ],
      "text/plain": [
       "   Sample_code_number  Clump_Thickness  Uniformity_ Cell Size  \\\n",
       "0             1000025                5                      1   \n",
       "\n",
       "   Uniformity_Cell Shape  Marginal Adhesion  Single_Epithelial_CellSize  \\\n",
       "0                      1                  1                           2   \n",
       "\n",
       "  Bare Nuclei  Bland_Chromatin  Normal_Nucleoli  Mitoses  Class  \n",
       "0           1                3                1        1      0  "
      ]
     },
     "execution_count": 284,
     "metadata": {},
     "output_type": "execute_result"
    }
   ],
   "source": [
    "df.head(1)"
   ]
  },
  {
   "cell_type": "code",
   "execution_count": 293,
   "metadata": {},
   "outputs": [
    {
     "name": "stderr",
     "output_type": "stream",
     "text": [
      "C:\\ProgramData\\Anaconda3\\lib\\site-packages\\tensorflow\\python\\keras\\engine\\sequential.py:455: UserWarning: `model.predict_classes()` is deprecated and will be removed after 2021-01-01. Please use instead:* `np.argmax(model.predict(x), axis=-1)`,   if your model does multi-class classification   (e.g. if it uses a `softmax` last-layer activation).* `(model.predict(x) > 0.5).astype(\"int32\")`,   if your model does binary classification   (e.g. if it uses a `sigmoid` last-layer activation).\n",
      "  warnings.warn('`model.predict_classes()` is deprecated and '\n"
     ]
    },
    {
     "data": {
      "text/plain": [
       "array([[0]])"
      ]
     },
     "execution_count": 293,
     "metadata": {},
     "output_type": "execute_result"
    }
   ],
   "source": [
    "custom = df.head(1).drop('Class', axis=1).values.reshape(-1,10)\n",
    "custom1 = MinMaxScaler()\n",
    "\n",
    "custom = scaler.transform(custom)\n",
    "\n",
    "model.predict_classes(custom)\n",
    "\n",
    "#True prediction"
   ]
  },
  {
   "cell_type": "markdown",
   "metadata": {},
   "source": [
    "# Save"
   ]
  },
  {
   "cell_type": "code",
   "execution_count": 294,
   "metadata": {},
   "outputs": [],
   "source": [
    "model.save(\"Cancer Prediction.h5\")"
   ]
  },
  {
   "cell_type": "code",
   "execution_count": null,
   "metadata": {},
   "outputs": [],
   "source": []
  }
 ],
 "metadata": {
  "kernelspec": {
   "display_name": "Python 3",
   "language": "python",
   "name": "python3"
  },
  "language_info": {
   "codemirror_mode": {
    "name": "ipython",
    "version": 3
   },
   "file_extension": ".py",
   "mimetype": "text/x-python",
   "name": "python",
   "nbconvert_exporter": "python",
   "pygments_lexer": "ipython3",
   "version": "3.8.5"
  }
 },
 "nbformat": 4,
 "nbformat_minor": 4
}
